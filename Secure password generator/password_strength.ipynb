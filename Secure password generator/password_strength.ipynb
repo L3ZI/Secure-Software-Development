{
  "nbformat": 4,
  "nbformat_minor": 0,
  "metadata": {
    "colab": {
      "provenance": [],
      "gpuType": "T4"
    },
    "kernelspec": {
      "name": "python3",
      "display_name": "Python 3"
    },
    "language_info": {
      "name": "python"
    },
    "gpuClass": "standard",
    "accelerator": "GPU"
  },
  "cells": [
    {
      "cell_type": "code",
      "source": [
        "import pandas as pd\n",
        "import numpy as np\n",
        "import random \n",
        "from sklearn.feature_extraction.text import TfidfVectorizer\n",
        "from sklearn.model_selection import train_test_split\n",
        "from sklearn.tree import DecisionTreeClassifier\n",
        "\n",
        "pswd_data = pd.read_csv(\"extracted_passwords.csv\", error_bad_lines = False)\n",
        "pswd = np.array(pswd_data)\n",
        "random.shuffle(pswd)\n",
        "\n",
        "ylabels = [s[1] for s in pswd]\n",
        "allpasswords = [s[0] for s in pswd]\n",
        "\n",
        "def createTokens(f):\n",
        "  tokens=[]\n",
        "  for i in f:\n",
        "    tokens.append(i)\n",
        "  return tokens\n",
        "\n",
        "\n",
        "\n",
        "vectorizer = TfidfVectorizer(tokenizer=createTokens)\n",
        "X = vectorizer.fit_transform(allpasswords)\n",
        "X_train, X_test, y_train, y_test = train_test_split(X, ylabels, test_size=0.2, random_state=42)\n",
        "clf = DecisionTreeClassifier()\n",
        "clf.fit(X_train, y_train)\n",
        "y_pred = clf.predict(X_test)\n",
        "\n",
        "\n",
        "\n",
        "X_predict = ['drshsyqb*']\n",
        "\n",
        "X_predict = vectorizer.transform(X_predict)\n",
        "y_Predict = clf.predict(X_predict)\n",
        "print(\"Results :  \",y_Predict)\n",
        "print(\"Accuracy : \", clf.score(X_test, y_test))\n",
        "\n",
        "\n"
      ],
      "metadata": {
        "colab": {
          "base_uri": "https://localhost:8080/"
        },
        "id": "eyxqozVYui7Q",
        "outputId": "f0995ea3-fd46-46e3-b7b8-84510a8fbdc2"
      },
      "execution_count": null,
      "outputs": [
        {
          "output_type": "stream",
          "name": "stderr",
          "text": [
            "<ipython-input-3-85e0ffff92c4>:8: FutureWarning: The error_bad_lines argument has been deprecated and will be removed in a future version. Use on_bad_lines in the future.\n",
            "\n",
            "\n",
            "  pswd_data = pd.read_csv(\"extracted_passwords.csv\", error_bad_lines = False)\n",
            "/usr/local/lib/python3.10/dist-packages/sklearn/feature_extraction/text.py:528: UserWarning: The parameter 'token_pattern' will not be used since 'tokenizer' is not None'\n",
            "  warnings.warn(\n"
          ]
        },
        {
          "output_type": "stream",
          "name": "stdout",
          "text": [
            "Results :   ['1']\n",
            "Accuracy :  0.9737714217471786\n"
          ]
        }
      ]
    }
  ]
}